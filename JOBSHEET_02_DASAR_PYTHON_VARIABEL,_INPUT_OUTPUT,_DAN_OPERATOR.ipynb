{
  "nbformat": 4,
  "nbformat_minor": 0,
  "metadata": {
    "colab": {
      "provenance": [],
      "authorship_tag": "ABX9TyMCPXD0755YTZlLhW0SKpF/",
      "include_colab_link": true
    },
    "kernelspec": {
      "name": "python3",
      "display_name": "Python 3"
    },
    "language_info": {
      "name": "python"
    }
  },
  "cells": [
    {
      "cell_type": "markdown",
      "metadata": {
        "id": "view-in-github",
        "colab_type": "text"
      },
      "source": [
        "<a href=\"https://colab.research.google.com/github/Feemoai/Jobsheet-2-Ahmad-Fajril-Falah/blob/main/JOBSHEET_02_DASAR_PYTHON_VARIABEL%2C_INPUT_OUTPUT%2C_DAN_OPERATOR.ipynb\" target=\"_parent\"><img src=\"https://colab.research.google.com/assets/colab-badge.svg\" alt=\"Open In Colab\"/></a>"
      ]
    },
    {
      "cell_type": "markdown",
      "source": [
        "**JOBSHEET 02. DASAR PYTHON: VARIABEL, INPUT/OUTPUT, DAN OPERATOR**\n",
        "\n",
        "\n",
        "Dosen:\n",
        "Ir. Prayitno, S.ST., M.T., Ph.D.\n",
        "\n",
        "Nama Mahasiswa\t: Ahmad Fajril Falah\n",
        "\n",
        "NIM Mahasiswa\t: 4.33.25.1.01\n",
        "\n",
        "---\n",
        "\n"
      ],
      "metadata": {
        "id": "OvGX6iqY6eeL"
      }
    },
    {
      "cell_type": "markdown",
      "source": [
        "Praktikum 01 – Pengenalan Variabel dan Tipe Data\n",
        "\n",
        "\n",
        "---\n",
        "\n"
      ],
      "metadata": {
        "id": "AhvOkxnJAzwk"
      }
    },
    {
      "cell_type": "code",
      "execution_count": null,
      "metadata": {
        "colab": {
          "base_uri": "https://localhost:8080/"
        },
        "id": "pqV0PSvmALqx",
        "outputId": "2b80ca13-9187-4636-9e4e-33f6076431c8"
      },
      "outputs": [
        {
          "output_type": "stream",
          "name": "stdout",
          "text": [
            "Ahmad Fajril Falah\n",
            "Umur: 20 → <class 'int'>\n",
            "Tinggi: 170.5 → <class 'float'>\n",
            "Nama: Ahmad Fajril Falah → <class 'str'>\n",
            "Status Mahasiswa: True → <class 'bool'>\n",
            "Nilai: [80, 85, 90] → <class 'list'>\n",
            "Koordinat: (10, 20) → <class 'tuple'>\n",
            "Data Mahasiswa: {'nama': 'Ahmad Fajril Falah', 'umur': 19, 'prodi': 'TRK'} → <class 'dict'>\n",
            "Hobi: {'tidur', 'membaca', 'mendengarkan musik'} → <class 'set'>\n"
          ]
        }
      ],
      "source": [
        "print(\"Ahmad Fajril Falah\")\n",
        "# Integer\n",
        "umur = 20\n",
        "print(\"Umur:\", umur, \"→\", type(umur))\n",
        "# Float\n",
        "tinggi = 170.5\n",
        "print(\"Tinggi:\", tinggi, \"→\", type(tinggi))\n",
        "# String\n",
        "nama = \"Ahmad Fajril Falah\"\n",
        "print(\"Nama:\", nama, \"→\", type(nama))\n",
        "# Boolean\n",
        "is_mahasiswa = True\n",
        "print(\"Status Mahasiswa:\", is_mahasiswa, \"→\", type(is_mahasiswa))\n",
        "# List\n",
        "nilai = [80, 85, 90]\n",
        "print(\"Nilai:\", nilai, \"→\", type(nilai))\n",
        "#Tuple\n",
        "koordinat = (10, 20)\n",
        "print(\"Koordinat:\", koordinat, \"→\", type(koordinat))\n",
        "# Dictionary\n",
        "mahasiswa = {\"nama\": \"Ahmad Fajril Falah\", \"umur\": 19, \"prodi\": \"TRK\"}\n",
        "print(\"Data Mahasiswa:\", mahasiswa, \"→\", type(mahasiswa))\n",
        "# Set\n",
        "hobi = {\"membaca\", \"tidur\", \"mendengarkan musik\"}\n",
        "print(\"Hobi:\", hobi, \"→\", type(hobi))"
      ]
    },
    {
      "cell_type": "markdown",
      "source": [
        "Praktikum 02 – Input dan Output Dasar\n",
        "\n",
        "---\n",
        "\n"
      ],
      "metadata": {
        "id": "joGCoqk9x0MB"
      }
    },
    {
      "cell_type": "code",
      "source": [
        "print(\"Ahmad Fajril Falah\")\n",
        "# Input string\n",
        "nama = input(\"Masukkan nama Anda: \")\n",
        "# Input integer\n",
        "umur = int(input(\"Masukkan umur Anda: \"))\n",
        "# Input float\n",
        "tinggi = float(input(\"Masukkan tinggi badan (cm): \"))\n",
        "\n",
        "# Output standar\n",
        "print(\"Halo,\", nama, \"umur Anda:\", umur, \"tahun, tinggi:\", tinggi, \"cm\")\n",
        "# Output dengan format()\n",
        "print(\"Halo {0}, umur Anda {1} tahun, tinggi {2} cm\".format(nama, umur, tinggi))\n",
        "# Output dengan f-string\n",
        "print(f\"Halo {nama}, umur Anda {umur} tahun, tinggi {tinggi} cm\")"
      ],
      "metadata": {
        "colab": {
          "base_uri": "https://localhost:8080/"
        },
        "id": "Mg7QOhmkETT8",
        "outputId": "c6f69486-35d3-479f-f4c7-89b976a2bf8a"
      },
      "execution_count": null,
      "outputs": [
        {
          "output_type": "stream",
          "name": "stdout",
          "text": [
            "Ahmad Fajril Falah\n",
            "Masukkan nama Anda: Ahmad Fajril Falah\n",
            "Masukkan umur Anda: 19\n",
            "Masukkan tinggi badan (cm): 171\n",
            "Halo, Ahmad Fajril Falah umur Anda: 19 tahun, tinggi: 171.0 cm\n",
            "Halo Ahmad Fajril Falah, umur Anda 19 tahun, tinggi 171.0 cm\n",
            "Halo Ahmad Fajril Falah, umur Anda 19 tahun, tinggi 171.0 cm\n"
          ]
        }
      ]
    },
    {
      "cell_type": "markdown",
      "source": [
        "Praktikum 03 – Operator Aritmatika\n",
        "\n",
        "\n",
        "---\n"
      ],
      "metadata": {
        "id": "bX30yT-6NGby"
      }
    },
    {
      "cell_type": "code",
      "source": [
        "#variabel yang digunakan\n",
        "a = 10\n",
        "b = 5\n",
        "\n",
        "print(\"Ahmad Fajril Falah\")\n",
        "print(\"Penjumlahan, a + b =\", a + b)\n",
        "print(\"Penggurangan, a - b =\", a - b)\n",
        "print(\"Perkalian, a * b =\", a * b)\n",
        "print(\"Pembagian, a / b =\", a / b)\n",
        "print(\"Pembagian Bulat, a // b =\", a // b)\n",
        "print(\"Sisa Bagi, a % b =\", a % b)\n",
        "print(\"Perpangkatan, a ** b =\", a ** b)\n"
      ],
      "metadata": {
        "colab": {
          "base_uri": "https://localhost:8080/"
        },
        "id": "zm1yFWIoNMyQ",
        "outputId": "00510e6e-836e-4af1-a6a0-2a7f001d92e9"
      },
      "execution_count": null,
      "outputs": [
        {
          "output_type": "stream",
          "name": "stdout",
          "text": [
            "Ahmad Fajril Falah\n",
            "Penjumlahan, a + b = 15\n",
            "Penggurangan, a - b = 5\n",
            "Perkalian, a * b = 50\n",
            "Pembagian, a / b = 2.0\n",
            "Pembagian Bulat, a // b = 2\n",
            "Sisa Bagi, a % b = 0\n",
            "Perpangkatan, a ** b = 100000\n"
          ]
        }
      ]
    },
    {
      "cell_type": "markdown",
      "source": [
        "Praktikum 04 – Operator Relasional\n",
        "\n",
        "\n",
        "---"
      ],
      "metadata": {
        "id": "pKWbflAsNmVs"
      }
    },
    {
      "cell_type": "code",
      "source": [
        "#variabel yang digunakan\n",
        "x = 10\n",
        "y = 20\n",
        "\n",
        "print(\"Ahmad Fajril Falah\")\n",
        "print(\"Sama dengan, x == y :\", x == y)\n",
        "print(\"Tidak sama dengan, x != y :\", x != y)\n",
        "print(\"Lebih kecil, x < y :\", x < y)\n",
        "print(\"Lebih besar, x > y :\", x > y)\n",
        "print(\"lebih kecil, x <= y :\", x <= y)\n",
        "print(\"lebih besar, x >= y :\", x >= y)\n"
      ],
      "metadata": {
        "colab": {
          "base_uri": "https://localhost:8080/"
        },
        "id": "UwbfvwhcNobn",
        "outputId": "4a5b0707-db0d-4ee5-c616-7d9e1ec3b6a9"
      },
      "execution_count": null,
      "outputs": [
        {
          "output_type": "stream",
          "name": "stdout",
          "text": [
            "Ahmad Fajril Falah\n",
            "Sama dengan, x == y : False\n",
            "Tidak sama dengan, x != y : True\n",
            "Lebih kecil, x < y : True\n",
            "Lebih besar, x > y : False\n",
            "lebih kecil, x <= y : True\n",
            "lebih besar, x >= y : False\n"
          ]
        }
      ]
    },
    {
      "cell_type": "markdown",
      "source": [
        "Praktikum 05 – Operator Logika dengan Studi Kasus Nyata\n",
        "\n",
        "\n",
        "---"
      ],
      "metadata": {
        "id": "e4YCLGsFN2qW"
      }
    },
    {
      "cell_type": "code",
      "source": [
        "# Operator logika dasar\n",
        "a = True\n",
        "b = False\n",
        "print(\"Ahmad Fajril Falah\")\n",
        "print(\"a and b =\", a and b)\n",
        "print(\"a or b =\", a or b)\n",
        "print(\"not a\t=\", not a)\n",
        "\n",
        "\n",
        "print(\"Studi kasus nyata: kelulusan\")\n",
        "nilai = int(input(\"Masukkan nilai ujian: \"))\n",
        "hadir = int(input(\"Masukkan jumlah kehadiran: \"))\n",
        "lulus_nilai = nilai >= 60\n",
        "lulus_hadir = hadir >= 12 # dari 16 pertemuan\n",
        "if lulus_nilai and lulus_hadir:\n",
        "  print(\"Status: LULUS\")\n",
        "else:\n",
        "  print(\"Status: TIDAK LULUS\")"
      ],
      "metadata": {
        "colab": {
          "base_uri": "https://localhost:8080/"
        },
        "id": "FjAck5VZOBAT",
        "outputId": "052858ad-aaef-4a0f-c2b5-42a72bd28ce4"
      },
      "execution_count": null,
      "outputs": [
        {
          "output_type": "stream",
          "name": "stdout",
          "text": [
            "Ahmad Fajril Falah\n",
            "a and b = False\n",
            "a or b = True\n",
            "not a\t= False\n",
            "Studi kasus nyata: kelulusan\n",
            "Masukkan nilai ujian: 70\n",
            "Masukkan jumlah kehadiran: 5\n",
            "Status: TIDAK LULUS\n"
          ]
        }
      ]
    },
    {
      "cell_type": "markdown",
      "source": [
        "Praktikum 06 – Program Kasir Sederhana\n",
        "\n",
        "---"
      ],
      "metadata": {
        "id": "7OcFCs0mR40s"
      }
    },
    {
      "cell_type": "code",
      "source": [
        "barang = input(\"Masukkan nama barang: \")\n",
        "harga = float(input(\"Masukkan harga barang: \"))\n",
        "jumlah = int(input(\"Masukkan jumlah barang: \"))\n",
        "total = harga * jumlah\n",
        "\n",
        "# Aturan diskon\n",
        "if total >= 500000:\n",
        "  diskon = 0.2\n",
        "elif total >= 250000:\n",
        "  diskon = 0.1\n",
        "else:\n",
        "  diskon = 0\n",
        "potongan = total * diskon\n",
        "bayar = total - potongan\n",
        "\n",
        "print(\"\\n===== Struk Belanja =====\")\n",
        "print(f\"Barang : {barang}\")\n",
        "print(f\"Jumlah : {jumlah}\")\n",
        "print(f\"Total : Rp {total}\")\n",
        "print(f\"Diskon : {diskon * 100}%\")\n",
        "print(f\"Bayar : Rp {bayar}\")"
      ],
      "metadata": {
        "colab": {
          "base_uri": "https://localhost:8080/"
        },
        "id": "gEbRiciZR-BM",
        "outputId": "f60b40de-94d2-4238-df82-c67e7ce996e5"
      },
      "execution_count": null,
      "outputs": [
        {
          "output_type": "stream",
          "name": "stdout",
          "text": [
            "Masukkan nama barang: Mie Ayam\n",
            "Masukkan harga barang: 15000\n",
            "Masukkan jumlah barang: 2\n",
            "\n",
            "===== Struk Belanja =====\n",
            "Barang : Mie Ayam\n",
            "Jumlah : 2\n",
            "Total : Rp 30000.0\n",
            "Diskon : 0%\n",
            "Bayar : Rp 30000.0\n"
          ]
        }
      ]
    },
    {
      "cell_type": "markdown",
      "source": [
        "**⬇⬇ Penugasan Jobsheet 02 ⬇⬇**\n",
        "\n",
        "---\n",
        "\n"
      ],
      "metadata": {
        "id": "04quMesg-U2R"
      }
    },
    {
      "cell_type": "markdown",
      "source": [
        "3. Identitas Mahasiswa\n",
        "\n",
        "---\n",
        "\n"
      ],
      "metadata": {
        "id": "lo7JrLURTy7X"
      }
    },
    {
      "cell_type": "code",
      "metadata": {
        "colab": {
          "base_uri": "https://localhost:8080/"
        },
        "id": "3f5b238c",
        "outputId": "42c7e8a2-d01d-48c2-e89d-9d37316f90fb"
      },
      "source": [
        "print(\"Program: Identitas Mahasiswa POLINES\")\n",
        "nama = \"Ahmad Fajril Falah\"\n",
        "umur = 19\n",
        "tinggi = 171.5\n",
        "status_aktif = True\n",
        "\n",
        "# Data Mahasiswa\n",
        "print(f\"Nama         : {nama}\")\n",
        "print(f\"Umur         : {umur} tahun\")\n",
        "print(f\"Tinggi Badan : {tinggi} cm\")\n",
        "print(f\"Status Aktif : {status_aktif}\")\n"
      ],
      "execution_count": 21,
      "outputs": [
        {
          "output_type": "stream",
          "name": "stdout",
          "text": [
            "Program: Identitas Mahasiswa POLINES\n",
            "Nama         : Ahmad Fajril Falah\n",
            "Umur         : 19 tahun\n",
            "Tinggi Badan : 171.5 cm\n",
            "Status Aktif : True\n"
          ]
        }
      ]
    },
    {
      "cell_type": "markdown",
      "source": [
        "4. Operasi Aritmatika\n",
        "\n",
        "---"
      ],
      "metadata": {
        "id": "m1ZOGdIfbY72"
      }
    },
    {
      "cell_type": "code",
      "source": [
        "print(\"Ahmad Fajril Falah\")\n",
        "print(\"Program: Operasi Aritmatika\")\n",
        "a = int(input(\"Masukkan bilangan pertama: \"))\n",
        "b = int(input(\"Masukkan bilangan kedua: \"))\n",
        "\n",
        "# Operasi aritmatika\n",
        "penjumlahan = a + b\n",
        "pengurangan = a - b\n",
        "perkalian = a * b\n",
        "pembagian = a / b\n",
        "sisa_bagi = a % b\n",
        "pangkat = a ** b\n",
        "\n",
        "# Menampilkan hasil\n",
        "print(\"\\n=== Hasil Operasi Aritmatika ===\")\n",
        "print(f\"Penjumlahan  : {penjumlahan}\")\n",
        "print(f\"Pengurangan  : {pengurangan}\")\n",
        "print(f\"Perkalian    : {perkalian}\")\n",
        "print(f\"Pembagian    : {pembagian}\")\n",
        "print(f\"Sisa Bagi    : {sisa_bagi}\")\n",
        "print(f\"Perpangkatan : {pangkat}\")"
      ],
      "metadata": {
        "id": "n35sUSQnbfeg",
        "colab": {
          "base_uri": "https://localhost:8080/"
        },
        "outputId": "6ca6339d-c6b0-47f1-f338-0748a22f8705"
      },
      "execution_count": 23,
      "outputs": [
        {
          "output_type": "stream",
          "name": "stdout",
          "text": [
            "Ahmad Fajril Falah\n",
            "Program: Operasi Aritmatika\n",
            "Masukkan bilangan pertama: 5\n",
            "Masukkan bilangan kedua: 10\n",
            "\n",
            "=== Hasil Operasi Aritmatika ===\n",
            "Penjumlahan  : 15\n",
            "Pengurangan  : -5\n",
            "Perkalian    : 50\n",
            "Pembagian    : 0.5\n",
            "Sisa Bagi    : 5\n",
            "Perpangkatan : 9765625\n"
          ]
        }
      ]
    },
    {
      "cell_type": "markdown",
      "source": [
        "5. Konversi Nilai\n",
        "\n",
        "---\n",
        "\n"
      ],
      "metadata": {
        "id": "NUmvcJWRbvM0"
      }
    },
    {
      "cell_type": "code",
      "source": [
        "# Program: Konversi Nilai\n",
        "print(\"Ahmad Fajril Falah\")\n",
        "print(\"Program: Konversi Nilai\")\n",
        "angka = float(input(\"Masukkan angka desimal: \"))\n",
        "\n",
        "# Konversi dan pembulatan\n",
        "angka_int = int(angka)\n",
        "angka_str = str(angka)\n",
        "angka_bulat = round(angka, 2)\n",
        "\n",
        "# Menampilkan hasil dengan f-string\n",
        "print(\"\\n=== Hasil Konversi ===\")\n",
        "print(f\"Bilangan asli     : {angka}\")\n",
        "print(f\"Dalam bentuk int  : {angka_int}\")\n",
        "print(f\"Dalam bentuk str  : {angka_str}\")\n",
        "print(f\"Dibulatkan (2 des): {angka_bulat}\")"
      ],
      "metadata": {
        "id": "nkem_B2Bb0bo",
        "colab": {
          "base_uri": "https://localhost:8080/"
        },
        "outputId": "2ece4c66-213e-4496-b1f1-f0a2c313ec5d"
      },
      "execution_count": 24,
      "outputs": [
        {
          "output_type": "stream",
          "name": "stdout",
          "text": [
            "Ahmad Fajril Falah\n",
            "Program: Konversi Nilai\n",
            "Masukkan angka desimal: 0.314\n",
            "\n",
            "=== Hasil Konversi ===\n",
            "Bilangan asli     : 0.314\n",
            "Dalam bentuk int  : 0\n",
            "Dalam bentuk str  : 0.314\n",
            "Dibulatkan (2 des): 0.31\n"
          ]
        }
      ]
    },
    {
      "cell_type": "markdown",
      "source": [
        "6. Operator Relasional\n",
        "\n",
        "---\n",
        "\n"
      ],
      "metadata": {
        "id": "AwNkgoiEb2wX"
      }
    },
    {
      "cell_type": "code",
      "source": [
        "print(\"Ahmad Fajril Falah\")\n",
        "print(\"Program: Operator Relasional\")\n",
        "a = int(input(\"Masukkan nilai a: \"))\n",
        "b = int(input(\"Masukkan nilai b: \"))\n",
        "\n",
        "# Hasil logika perbandingan\n",
        "print(\"\\n=== Hasil Perbandingan ===\")\n",
        "print(f\"a == b : {a == b}\")   # Sama dengan\n",
        "print(f\"a != b : {a != b}\")   # Tidak sama dengan\n",
        "print(f\"a <  b : {a < b}\")    # Lebih kecil dari\n",
        "print(f\"a >  b : {a > b}\")    # Lebih besar dari\n",
        "print(f\"a <= b : {a <= b}\")   # Lebih kecil atau sama dengan\n",
        "print(f\"a >= b : {a >= b}\")   # Lebih besar atau sama dengan"
      ],
      "metadata": {
        "id": "hb0HQnTNcIj5",
        "colab": {
          "base_uri": "https://localhost:8080/"
        },
        "outputId": "eb438e8c-284a-4f32-ee7a-8e7f0d188138"
      },
      "execution_count": 25,
      "outputs": [
        {
          "output_type": "stream",
          "name": "stdout",
          "text": [
            "Ahmad Fajril Falah\n",
            "Program: Operator Relasional\n",
            "Masukkan nilai a: 20\n",
            "Masukkan nilai b: 30\n",
            "\n",
            "=== Hasil Perbandingan ===\n",
            "a == b : False\n",
            "a != b : True\n",
            "a <  b : True\n",
            "a >  b : False\n",
            "a <= b : True\n",
            "a >= b : False\n"
          ]
        }
      ]
    }
  ]
}